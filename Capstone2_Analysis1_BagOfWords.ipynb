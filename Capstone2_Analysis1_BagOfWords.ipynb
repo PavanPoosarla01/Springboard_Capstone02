{
 "cells": [
  {
   "cell_type": "markdown",
   "metadata": {},
   "source": [
    "# Springboard Capstone 2: Tweet Sentiment Extraction"
   ]
  },
  {
   "cell_type": "markdown",
   "metadata": {},
   "source": [
    "## Solution Approach 1: Simple Bag-of-Words with post processing output"
   ]
  },
  {
   "cell_type": "markdown",
   "metadata": {},
   "source": [
    "Based on teh EDA on the dataset, we see that\n",
    "1. If the sentiment is neutral, majority of the tweets have the entre text replicated in the selcted text\n",
    "2. If the length of tweet is small(2-3 words), even then majority of words are selected\n",
    "3. Selected text is usually 5-10 words for positive and negative sentiments\n",
    "\n",
    "Based on this observations, we would like to test a bag-of-words approach to preductors with post processing to capture the phrase with higest correlation with the sentiment"
   ]
  },
  {
   "cell_type": "code",
   "execution_count": 1,
   "metadata": {},
   "outputs": [],
   "source": [
    "# imports\n",
    "# imports\n",
    "import numpy as np\n",
    "import pandas as pd\n",
    "import matplotlib.pyplot as plt\n",
    "import seaborn as sns\n",
    "import sklearn\n",
    "\n",
    "import re\n",
    "import nltk"
   ]
  },
  {
   "cell_type": "code",
   "execution_count": 2,
   "metadata": {},
   "outputs": [],
   "source": [
    "# Read data into memory\n",
    "training_fn = r'../data/raw/train.csv'\n",
    "test_fn = r'../data/raw/test.csv'"
   ]
  },
  {
   "cell_type": "code",
   "execution_count": 3,
   "metadata": {},
   "outputs": [],
   "source": [
    "train_df = pd.read_csv(training_fn, index_col = 'textID')\n",
    "test_df = pd.read_csv(test_fn, index_col = 'textID')"
   ]
  },
  {
   "cell_type": "code",
   "execution_count": 4,
   "metadata": {},
   "outputs": [],
   "source": [
    "def drop_missing_rows(df_in):\n",
    "    df_out = df_in.dropna(axis = 0)\n",
    "    return df_out  "
   ]
  },
  {
   "cell_type": "code",
   "execution_count": 5,
   "metadata": {},
   "outputs": [],
   "source": [
    "def text_preprocess(text):\n",
    "    # Strip leading and lagging whitespace\n",
    "    text = text.strip()\n",
    "    \n",
    "    # Remove accented characters\n",
    "#     text = unicodedata.normalize('NFKD', text).encode('ascii', 'ignore').decode('utf-8', 'ignore')\n",
    "    \n",
    "    # Convert all text to lower case\n",
    "    text.lower()\n",
    "    \n",
    "    # Take raw text and remove all audience reactions\n",
    "#     text = re.sub('\\((.*?)\\)', '', text)\n",
    "\n",
    "    # Remove url's from the tweets.\n",
    "#     text = re.sub(r'(https?://\\S+)', '', text)\n",
    "    return text"
   ]
  },
  {
   "cell_type": "code",
   "execution_count": 6,
   "metadata": {},
   "outputs": [],
   "source": [
    "# Drop missing data\n",
    "train_df = drop_missing_rows(train_df)"
   ]
  },
  {
   "cell_type": "markdown",
   "metadata": {},
   "source": [
    "Need to add a prepocessing step where selected text is NaN for input text of NaN"
   ]
  },
  {
   "cell_type": "code",
   "execution_count": 7,
   "metadata": {},
   "outputs": [],
   "source": [
    "train_df['clean_text'] = train_df.text.apply(text_preprocess)"
   ]
  },
  {
   "cell_type": "code",
   "execution_count": 8,
   "metadata": {},
   "outputs": [
    {
     "data": {
      "text/html": [
       "<div>\n",
       "<style scoped>\n",
       "    .dataframe tbody tr th:only-of-type {\n",
       "        vertical-align: middle;\n",
       "    }\n",
       "\n",
       "    .dataframe tbody tr th {\n",
       "        vertical-align: top;\n",
       "    }\n",
       "\n",
       "    .dataframe thead th {\n",
       "        text-align: right;\n",
       "    }\n",
       "</style>\n",
       "<table border=\"1\" class=\"dataframe\">\n",
       "  <thead>\n",
       "    <tr style=\"text-align: right;\">\n",
       "      <th></th>\n",
       "      <th>text</th>\n",
       "      <th>selected_text</th>\n",
       "      <th>sentiment</th>\n",
       "      <th>clean_text</th>\n",
       "    </tr>\n",
       "    <tr>\n",
       "      <th>textID</th>\n",
       "      <th></th>\n",
       "      <th></th>\n",
       "      <th></th>\n",
       "      <th></th>\n",
       "    </tr>\n",
       "  </thead>\n",
       "  <tbody>\n",
       "    <tr>\n",
       "      <td>cb774db0d1</td>\n",
       "      <td>I`d have responded, if I were going</td>\n",
       "      <td>I`d have responded, if I were going</td>\n",
       "      <td>neutral</td>\n",
       "      <td>I`d have responded, if I were going</td>\n",
       "    </tr>\n",
       "    <tr>\n",
       "      <td>549e992a42</td>\n",
       "      <td>Sooo SAD I will miss you here in San Diego!!!</td>\n",
       "      <td>Sooo SAD</td>\n",
       "      <td>negative</td>\n",
       "      <td>Sooo SAD I will miss you here in San Diego!!!</td>\n",
       "    </tr>\n",
       "    <tr>\n",
       "      <td>088c60f138</td>\n",
       "      <td>my boss is bullying me...</td>\n",
       "      <td>bullying me</td>\n",
       "      <td>negative</td>\n",
       "      <td>my boss is bullying me...</td>\n",
       "    </tr>\n",
       "    <tr>\n",
       "      <td>9642c003ef</td>\n",
       "      <td>what interview! leave me alone</td>\n",
       "      <td>leave me alone</td>\n",
       "      <td>negative</td>\n",
       "      <td>what interview! leave me alone</td>\n",
       "    </tr>\n",
       "    <tr>\n",
       "      <td>358bd9e861</td>\n",
       "      <td>Sons of ****, why couldn`t they put them on t...</td>\n",
       "      <td>Sons of ****,</td>\n",
       "      <td>negative</td>\n",
       "      <td>Sons of ****, why couldn`t they put them on th...</td>\n",
       "    </tr>\n",
       "  </tbody>\n",
       "</table>\n",
       "</div>"
      ],
      "text/plain": [
       "                                                         text  \\\n",
       "textID                                                          \n",
       "cb774db0d1                I`d have responded, if I were going   \n",
       "549e992a42      Sooo SAD I will miss you here in San Diego!!!   \n",
       "088c60f138                          my boss is bullying me...   \n",
       "9642c003ef                     what interview! leave me alone   \n",
       "358bd9e861   Sons of ****, why couldn`t they put them on t...   \n",
       "\n",
       "                                  selected_text sentiment  \\\n",
       "textID                                                      \n",
       "cb774db0d1  I`d have responded, if I were going   neutral   \n",
       "549e992a42                             Sooo SAD  negative   \n",
       "088c60f138                          bullying me  negative   \n",
       "9642c003ef                       leave me alone  negative   \n",
       "358bd9e861                        Sons of ****,  negative   \n",
       "\n",
       "                                                   clean_text  \n",
       "textID                                                         \n",
       "cb774db0d1                I`d have responded, if I were going  \n",
       "549e992a42      Sooo SAD I will miss you here in San Diego!!!  \n",
       "088c60f138                          my boss is bullying me...  \n",
       "9642c003ef                     what interview! leave me alone  \n",
       "358bd9e861  Sons of ****, why couldn`t they put them on th...  "
      ]
     },
     "execution_count": 8,
     "metadata": {},
     "output_type": "execute_result"
    }
   ],
   "source": [
    "train_df.head(5)"
   ]
  },
  {
   "cell_type": "markdown",
   "metadata": {},
   "source": [
    "## Train Model for Sentiment Analysis"
   ]
  },
  {
   "cell_type": "markdown",
   "metadata": {},
   "source": [
    "The goal of our model is to get the words in each model which are predictive of a particular sentiment and find the phrase around the word as selected text. In the first part, we develop  amodel that can provide the words strongly predictive of a sentiment"
   ]
  },
  {
   "cell_type": "code",
   "execution_count": 9,
   "metadata": {},
   "outputs": [],
   "source": [
    "from sklearn.feature_extraction.text import CountVectorizer, TfidfVectorizer\n",
    "\n",
    "from sklearn.preprocessing import LabelEncoder\n",
    "# vectorizer = CountVectorizer()\n",
    "vectorizer = TfidfVectorizer()\n",
    "\n",
    "vectorizer.fit(train_df.clean_text)\n",
    "X_train_full = vectorizer.transform(train_df.clean_text)\n",
    "le = LabelEncoder()\n",
    "\n",
    "y_train_full = le.fit_transform(train_df.sentiment)"
   ]
  },
  {
   "cell_type": "code",
   "execution_count": 60,
   "metadata": {},
   "outputs": [
    {
     "data": {
      "text/plain": [
       "<27480x26439 sparse matrix of type '<class 'numpy.float64'>'\n",
       "\twith 314805 stored elements in Compressed Sparse Row format>"
      ]
     },
     "execution_count": 60,
     "metadata": {},
     "output_type": "execute_result"
    }
   ],
   "source": [
    "X_train_full"
   ]
  },
  {
   "cell_type": "code",
   "execution_count": 10,
   "metadata": {},
   "outputs": [
    {
     "data": {
      "text/plain": [
       "array(['negative', 'neutral', 'positive'], dtype=object)"
      ]
     },
     "execution_count": 10,
     "metadata": {},
     "output_type": "execute_result"
    }
   ],
   "source": [
    "le.classes_"
   ]
  },
  {
   "cell_type": "code",
   "execution_count": 11,
   "metadata": {},
   "outputs": [
    {
     "data": {
      "text/plain": [
       "(27480, 26439)"
      ]
     },
     "execution_count": 11,
     "metadata": {},
     "output_type": "execute_result"
    }
   ],
   "source": [
    "X_train_full.shape"
   ]
  },
  {
   "cell_type": "code",
   "execution_count": 12,
   "metadata": {},
   "outputs": [],
   "source": [
    "# Get training and testing split\n",
    "from sklearn.model_selection import train_test_split\n",
    "X_train, X_test, y_train, y_test = train_test_split(X_train_full, y_train_full, test_size = 0.3)"
   ]
  },
  {
   "cell_type": "markdown",
   "metadata": {},
   "source": [
    "Lets train a Classification Model"
   ]
  },
  {
   "cell_type": "code",
   "execution_count": 13,
   "metadata": {},
   "outputs": [],
   "source": [
    "from sklearn.metrics import balanced_accuracy_score\n",
    "from sklearn.metrics import fbeta_score, make_scorer\n",
    "from sklearn.metrics import roc_auc_score\n",
    "bal_acc_scorer = make_scorer(balanced_accuracy_score, adjusted = True)\n",
    "# ROC AUC score using One-vs-Rest and weighted by prevalence\n",
    "roc_auc_scorer = make_scorer(roc_auc_score, needs_proba = True, multi_class = 'ovr',average = \"weighted\")"
   ]
  },
  {
   "cell_type": "code",
   "execution_count": 14,
   "metadata": {},
   "outputs": [
    {
     "name": "stdout",
     "output_type": "stream",
     "text": [
      "Balanced accuracy score (training)is  0.8137125378949855\n",
      "ROC AUC score (training)is  0.9282615225370816\n"
     ]
    }
   ],
   "source": [
    "from sklearn.linear_model import LogisticRegression\n",
    "from sklearn.naive_bayes import MultinomialNB\n",
    "from sklearn.model_selection import GridSearchCV\n",
    "\n",
    "\n",
    "# nb = MultinomialNB()\n",
    "clf = LogisticRegression(class_weight = 'balanced', multi_class = 'ovr', solver = 'newton-cg')\n",
    "clf.fit(X_train, y_train)\n",
    "y_pred = clf.predict(X_train)\n",
    "y_prob = clf.predict_proba(X_train)\n",
    "\n",
    "print ('Balanced accuracy score (training)is ', balanced_accuracy_score(clf.predict(X_train), y_train))\n",
    "print ('ROC AUC score (training)is ', roc_auc_score(y_train, y_prob, average = \"weighted\", multi_class = 'ovr'))"
   ]
  },
  {
   "cell_type": "code",
   "execution_count": 16,
   "metadata": {
    "scrolled": true
   },
   "outputs": [
    {
     "name": "stdout",
     "output_type": "stream",
     "text": [
      "Balanced accuracy score (test)is  0.6937214047069867\n",
      "ROC AUC score (test)is  0.8355964431175137\n"
     ]
    }
   ],
   "source": [
    "# On Test set\n",
    "y_pred_test = clf.predict(X_test)\n",
    "y_prob_test = clf.predict_proba(X_test)\n",
    "\n",
    "print ('Balanced accuracy score (test)is ', balanced_accuracy_score(clf.predict(X_test), y_test))\n",
    "print ('ROC AUC score (test)is ', roc_auc_score(y_test, y_prob_test, average = \"weighted\", multi_class = 'ovr'))"
   ]
  },
  {
   "cell_type": "code",
   "execution_count": 17,
   "metadata": {},
   "outputs": [],
   "source": [
    "C_ls = list(np.logspace(-5, 5, num=10))\n",
    "# C_ls = [1.0]"
   ]
  },
  {
   "cell_type": "code",
   "execution_count": 18,
   "metadata": {},
   "outputs": [
    {
     "data": {
      "text/plain": [
       "{'mean_fit_time': array([ 0.2124506 ,  0.24681859,  0.33336821,  0.58366389,  0.98751073,\n",
       "         1.58153391,  2.60389581,  5.00250034, 11.52904649, 20.65310993]),\n",
       " 'std_fit_time': array([0.01593086, 0.01168824, 0.04578632, 0.03359315, 0.03871302,\n",
       "        0.08584832, 0.16980322, 0.66154571, 1.64680038, 1.11436748]),\n",
       " 'mean_score_time': array([0.01249728, 0.01249704, 0.00937338, 0.01562028, 0.01249466,\n",
       "        0.00937257, 0.00625062, 0.01815143, 0.01528807, 0.00312343]),\n",
       " 'std_score_time': array([0.01169049, 0.00624852, 0.00765333, 0.00988054, 0.00624733,\n",
       "        0.00765267, 0.00765542, 0.00203477, 0.0006629 , 0.00624685]),\n",
       " 'param_C': masked_array(data=[1e-05, 0.0001291549665014884, 0.0016681005372000592,\n",
       "                    0.021544346900318846, 0.2782559402207126,\n",
       "                    3.593813663804626, 46.41588833612782,\n",
       "                    599.4842503189421, 7742.636826811277, 100000.0],\n",
       "              mask=[False, False, False, False, False, False, False, False,\n",
       "                    False, False],\n",
       "        fill_value='?',\n",
       "             dtype=object),\n",
       " 'params': [{'C': 1e-05},\n",
       "  {'C': 0.0001291549665014884},\n",
       "  {'C': 0.0016681005372000592},\n",
       "  {'C': 0.021544346900318846},\n",
       "  {'C': 0.2782559402207126},\n",
       "  {'C': 3.593813663804626},\n",
       "  {'C': 46.41588833612782},\n",
       "  {'C': 599.4842503189421},\n",
       "  {'C': 7742.636826811277},\n",
       "  {'C': 100000.0}],\n",
       " 'split0_test_score': array([0.76911083, 0.76922114, 0.77055561, 0.78316156, 0.81831946,\n",
       "        0.8285983 , 0.80238031, 0.75839362, 0.72116796, 0.69895178]),\n",
       " 'split1_test_score': array([0.77054185, 0.77065275, 0.77194716, 0.78403823, 0.81843751,\n",
       "        0.82973701, 0.80331211, 0.76559717, 0.74040312, 0.72511428]),\n",
       " 'split2_test_score': array([0.77453623, 0.77465445, 0.77604406, 0.78867082, 0.81972868,\n",
       "        0.82715349, 0.80436176, 0.76579968, 0.73114724, 0.7147999 ]),\n",
       " 'split3_test_score': array([0.772547  , 0.77265253, 0.77395984, 0.78618441, 0.82158608,\n",
       "        0.83404231, 0.8109025 , 0.77396907, 0.74315315, 0.72245523]),\n",
       " 'split4_test_score': array([0.77243956, 0.77255039, 0.77395501, 0.78677247, 0.82125549,\n",
       "        0.83155309, 0.80631252, 0.7668907 , 0.73160427, 0.70414199]),\n",
       " 'mean_test_score': array([0.77183509, 0.77194625, 0.77329234, 0.7857655 , 0.81986544,\n",
       "        0.83021684, 0.80545384, 0.76613005, 0.73349515, 0.71309264]),\n",
       " 'std_test_score': array([0.00185809, 0.00185998, 0.00188445, 0.00196948, 0.00136679,\n",
       "        0.0023939 , 0.00302163, 0.00494518, 0.00777232, 0.01015057]),\n",
       " 'rank_test_score': array([ 7,  6,  5,  4,  2,  1,  3,  8,  9, 10])}"
      ]
     },
     "execution_count": 18,
     "metadata": {},
     "output_type": "execute_result"
    }
   ],
   "source": [
    "# Grid Search CV\n",
    "from sklearn.model_selection import GridSearchCV\n",
    "C_ls = np.logspace(-5, 5, num=10)\n",
    "param_grid = {'C':C_ls}\n",
    "clf_grid = GridSearchCV(clf, param_grid=param_grid, scoring = roc_auc_scorer, n_jobs = -1)\n",
    "clf_grid.fit(X_train, y_train)\n",
    "clf_grid.cv_results_"
   ]
  },
  {
   "cell_type": "markdown",
   "metadata": {},
   "source": [
    "We test the model performance using both the CountVectorizer and TfidfVectorizer. Then, we use Tfidf vectorizer as it gives higher performance"
   ]
  },
  {
   "cell_type": "code",
   "execution_count": 19,
   "metadata": {},
   "outputs": [],
   "source": [
    "clf_best = clf_grid.best_estimator_"
   ]
  },
  {
   "cell_type": "code",
   "execution_count": 20,
   "metadata": {
    "scrolled": true
   },
   "outputs": [
    {
     "name": "stdout",
     "output_type": "stream",
     "text": [
      "The best parameter, C , selected is 3.593813663804626\n"
     ]
    }
   ],
   "source": [
    "print ('The best parameter, C , selected is',clf_best.get_params()['C'])"
   ]
  },
  {
   "cell_type": "code",
   "execution_count": 21,
   "metadata": {
    "scrolled": true
   },
   "outputs": [
    {
     "name": "stdout",
     "output_type": "stream",
     "text": [
      "Score of the best model score on the test set is 0.8353628722039163\n"
     ]
    }
   ],
   "source": [
    "best_roc_auc_score = roc_auc_score(y_test, clf_best.predict_proba(X_test), average = \"weighted\", multi_class = 'ovr')\n",
    "print('Score of the best model score on the test set is', best_roc_auc_score)"
   ]
  },
  {
   "cell_type": "code",
   "execution_count": 22,
   "metadata": {},
   "outputs": [
    {
     "name": "stdout",
     "output_type": "stream",
     "text": [
      "              precision    recall  f1-score   support\n",
      "\n",
      "           0       0.68      0.66      0.67      2313\n",
      "           1       0.65      0.68      0.67      3339\n",
      "           2       0.76      0.73      0.74      2592\n",
      "\n",
      "    accuracy                           0.69      8244\n",
      "   macro avg       0.70      0.69      0.69      8244\n",
      "weighted avg       0.69      0.69      0.69      8244\n",
      "\n"
     ]
    }
   ],
   "source": [
    "from sklearn.metrics import classification_report\n",
    "print(classification_report(y_test, clf_best.predict(X_test)))"
   ]
  },
  {
   "cell_type": "code",
   "execution_count": 23,
   "metadata": {},
   "outputs": [
    {
     "name": "stdout",
     "output_type": "stream",
     "text": [
      "Confusion matrix, without normalization\n",
      "[[1530  652  131]\n",
      " [ 576 2285  478]\n",
      " [ 134  570 1888]]\n",
      "Normalized confusion matrix\n",
      "[[0.6614786  0.281885   0.0566364 ]\n",
      " [0.17250674 0.68433663 0.14315663]\n",
      " [0.05169753 0.21990741 0.72839506]]\n"
     ]
    },
    {
     "data": {
      "image/png": "[encoded data removed]",
      "text/plain": [
       "<Figure size 504x504 with 2 Axes>"
      ]
     },
     "metadata": {
      "needs_background": "light"
     },
     "output_type": "display_data"
    },
    {
     "data": {
      "image/png": "[encoded data removed]",
      "text/plain": [
       "<Figure size 504x504 with 2 Axes>"
      ]
     },
     "metadata": {
      "needs_background": "light"
     },
     "output_type": "display_data"
    }
   ],
   "source": [
    "# Confusion Matrix of Classifier\n",
    "from sklearn.metrics import plot_confusion_matrix\n",
    "# Plot non-normalized confusion matrix\n",
    "titles_options = [(\"Confusion matrix, without normalization\", None),\n",
    "                  (\"Normalized confusion matrix\", 'true')]\n",
    "for title, normalize in titles_options:\n",
    "    disp = plot_confusion_matrix(clf_best, X_test, y_test,\n",
    "                                 display_labels=list(le.classes_),\n",
    "                                 cmap=plt.cm.Blues,\n",
    "                                 normalize=normalize)\n",
    "    disp.ax_.set_title(title)\n",
    "    disp.figure_.set_size_inches((7,7))\n",
    "\n",
    "    print(title)\n",
    "    print(disp.confusion_matrix)\n",
    "\n",
    "plt.show()"
   ]
  },
  {
   "cell_type": "markdown",
   "metadata": {},
   "source": [
    "Use the trained model to get the probability of each calss for each word in the vectorizer"
   ]
  },
  {
   "cell_type": "markdown",
   "metadata": {},
   "source": [
    "## Post Processing"
   ]
  },
  {
   "cell_type": "code",
   "execution_count": 24,
   "metadata": {},
   "outputs": [],
   "source": [
    "words = np.array(vectorizer.get_feature_names())"
   ]
  },
  {
   "cell_type": "code",
   "execution_count": 25,
   "metadata": {},
   "outputs": [
    {
     "data": {
      "text/plain": [
       "(26439,)"
      ]
     },
     "execution_count": 25,
     "metadata": {},
     "output_type": "execute_result"
    }
   ],
   "source": [
    "words.shape"
   ]
  },
  {
   "cell_type": "code",
   "execution_count": 26,
   "metadata": {},
   "outputs": [
    {
     "data": {
      "text/plain": [
       "26439"
      ]
     },
     "execution_count": 26,
     "metadata": {},
     "output_type": "execute_result"
    }
   ],
   "source": [
    "X_train_full.shape[1]"
   ]
  },
  {
   "cell_type": "code",
   "execution_count": 27,
   "metadata": {},
   "outputs": [],
   "source": [
    "x = np.eye(words.shape[0])"
   ]
  },
  {
   "cell_type": "code",
   "execution_count": 28,
   "metadata": {},
   "outputs": [],
   "source": [
    "clf_predict_proba = clf_best.predict_proba(x)\n",
    "# clf_predict_proba[:,1]"
   ]
  },
  {
   "cell_type": "code",
   "execution_count": 30,
   "metadata": {},
   "outputs": [
    {
     "data": {
      "text/plain": [
       "(26439, 3)"
      ]
     },
     "execution_count": 30,
     "metadata": {},
     "output_type": "execute_result"
    }
   ],
   "source": [
    "np.shape(clf_predict_proba)"
   ]
  },
  {
   "cell_type": "code",
   "execution_count": 31,
   "metadata": {},
   "outputs": [
    {
     "data": {
      "text/plain": [
       "2"
      ]
     },
     "execution_count": 31,
     "metadata": {},
     "output_type": "execute_result"
    }
   ],
   "source": [
    "le.transform([\"positive\"])[0]"
   ]
  },
  {
   "cell_type": "code",
   "execution_count": 32,
   "metadata": {},
   "outputs": [
    {
     "name": "stdout",
     "output_type": "stream",
     "text": [
      "The encoded labels corresponding to classes \n",
      " ['negative' 'neutral' 'positive'] are \n",
      " [0 1 2]\n"
     ]
    }
   ],
   "source": [
    "print ('The encoded labels corresponding to classes \\n',le.classes_, 'are \\n',le.transform(le.classes_))"
   ]
  },
  {
   "cell_type": "code",
   "execution_count": 33,
   "metadata": {},
   "outputs": [
    {
     "name": "stdout",
     "output_type": "stream",
     "text": [
      "Good words\t     P(negative | word)\n",
      "                hate 0.97\n",
      "                fail 0.97\n",
      "                miss 0.98\n",
      "              stupid 0.98\n",
      "               sucks 0.98\n",
      "Bad words\t     P(negative | word)\n",
      "                love 0.00\n",
      "                glad 0.00\n",
      "              thanks 0.00\n",
      "             awesome 0.00\n",
      "                hope 0.00\n",
      "Good words\t     P(neutral | word)\n",
      "            catching 0.87\n",
      "             airport 0.87\n",
      "                jump 0.87\n",
      "             private 0.90\n",
      "              invite 0.91\n",
      "Bad words\t     P(neutral | word)\n",
      "               happy 0.00\n",
      "                good 0.00\n",
      "              thanks 0.00\n",
      "                love 0.01\n",
      "             awesome 0.01\n",
      "Good words\t     P(positive | word)\n",
      "                good 0.99\n",
      "             awesome 0.99\n",
      "                love 0.99\n",
      "               happy 1.00\n",
      "              thanks 1.00\n",
      "Bad words\t     P(positive | word)\n",
      "                 sad 0.00\n",
      "                miss 0.00\n",
      "               sorry 0.00\n",
      "                hate 0.00\n",
      "               sucks 0.00\n"
     ]
    }
   ],
   "source": [
    "probs_dict = {}\n",
    "for sent in le.classes_:\n",
    "\n",
    "    probs_dict[sent+'_probs'] = clf_predict_proba[:, le.transform([sent])[0]]\n",
    "    ind = np.argsort(probs_dict[sent+'_probs'])\n",
    "    # Get good and bad words\n",
    "    good_words = words[ind[-5:]]\n",
    "    bad_words = words[ind[:5]]\n",
    "    # Get corresponding probabilities\n",
    "    good_prob = probs_dict[sent+'_probs'][ind[-5:]]\n",
    "    bad_prob = probs_dict[sent+'_probs'][ind[:5]]\n",
    "    \n",
    "    # Print Best and Worst predictive words\n",
    "    print(\"Good words\\t     P(%s | word)\" %sent)\n",
    "    for w, p in zip(good_words, good_prob):\n",
    "        print(\"{:>20}\".format(w), \"{:.2f}\".format(p))\n",
    "    \n",
    "    print(\"Bad words\\t     P(%s | word)\" %sent)\n",
    "    for w, p in zip(bad_words, bad_prob):\n",
    "        print(\"{:>20}\".format(w), \"{:.2f}\".format(p))"
   ]
  },
  {
   "cell_type": "markdown",
   "metadata": {},
   "source": [
    "Next for each tweet, we will try to look at the word with highest probability in a particular sentiment"
   ]
  },
  {
   "cell_type": "markdown",
   "metadata": {},
   "source": [
    "### Select sub-tweets"
   ]
  },
  {
   "cell_type": "markdown",
   "metadata": {},
   "source": [
    "We want to predict the probabilities of each word in tweet for a particular sentiment"
   ]
  },
  {
   "cell_type": "code",
   "execution_count": 127,
   "metadata": {},
   "outputs": [
    {
     "data": {
      "text/plain": [
       "1"
      ]
     },
     "execution_count": 127,
     "metadata": {},
     "output_type": "execute_result"
    }
   ],
   "source": [
    "le.transform(['neutral'])[0]"
   ]
  },
  {
   "cell_type": "code",
   "execution_count": 124,
   "metadata": {},
   "outputs": [],
   "source": [
    "neg_proba = clf_predict_proba[:, le.transform(['negative'])[0]]\n",
    "pos_proba = clf_predict_proba[:, le.transform(['positive'])[0]]\n",
    "neu_proba = clf_predict_proba[:, le.transform(['neutral'])[0]]\n"
   ]
  },
  {
   "cell_type": "code",
   "execution_count": 176,
   "metadata": {
    "scrolled": true
   },
   "outputs": [],
   "source": [
    "tweet_tokenizer = vectorizer.build_tokenizer()\n",
    "def select_predictive_word(text, sent):\n",
    "    tweet_tokens = tweet_tokenizer(text)\n",
    "    token_index = [vectorizer.vocabulary_[token.lower()] for token in tweet_tokens]\n",
    "    tweet_probs = [clf_predict_proba[ix, le.transform([sent])[0]] for ix in token_index]\n",
    "#     print(tweet_tokens)\n",
    "#     print(tweet_probs)\n",
    "    try:\n",
    "        selected_text = tweet_tokens[np.argmax(tweet_probs)]\n",
    "    except:\n",
    "        selected_text = text\n",
    "        \n",
    "    return(selected_text)\n",
    "    \n",
    "vec_selected_text = np.vectorize(select_predictive_word)"
   ]
  },
  {
   "cell_type": "code",
   "execution_count": 182,
   "metadata": {},
   "outputs": [],
   "source": [
    "def jaccard(str1, str2): \n",
    "    a = set(str1.lower().split())\n",
    "    b = set(str2.lower().split())\n",
    "    c = a.intersection(b)\n",
    "    jaccard_score = float(len(c)) / (len(a) + len(b) - len(c))\n",
    "    return jaccard_score\n",
    "vec_jaccard = np.vectorize(jaccard)"
   ]
  },
  {
   "cell_type": "code",
   "execution_count": 165,
   "metadata": {
    "scrolled": true
   },
   "outputs": [
    {
     "data": {
      "text/html": [
       "<div>\n",
       "<style scoped>\n",
       "    .dataframe tbody tr th:only-of-type {\n",
       "        vertical-align: middle;\n",
       "    }\n",
       "\n",
       "    .dataframe tbody tr th {\n",
       "        vertical-align: top;\n",
       "    }\n",
       "\n",
       "    .dataframe thead th {\n",
       "        text-align: right;\n",
       "    }\n",
       "</style>\n",
       "<table border=\"1\" class=\"dataframe\">\n",
       "  <thead>\n",
       "    <tr style=\"text-align: right;\">\n",
       "      <th></th>\n",
       "      <th>text</th>\n",
       "      <th>selected_text</th>\n",
       "      <th>sentiment</th>\n",
       "      <th>clean_text</th>\n",
       "    </tr>\n",
       "    <tr>\n",
       "      <th>textID</th>\n",
       "      <th></th>\n",
       "      <th></th>\n",
       "      <th></th>\n",
       "      <th></th>\n",
       "    </tr>\n",
       "  </thead>\n",
       "  <tbody>\n",
       "    <tr>\n",
       "      <td>cb774db0d1</td>\n",
       "      <td>I`d have responded, if I were going</td>\n",
       "      <td>I`d have responded, if I were going</td>\n",
       "      <td>neutral</td>\n",
       "      <td>I`d have responded, if I were going</td>\n",
       "    </tr>\n",
       "    <tr>\n",
       "      <td>549e992a42</td>\n",
       "      <td>Sooo SAD I will miss you here in San Diego!!!</td>\n",
       "      <td>Sooo SAD</td>\n",
       "      <td>negative</td>\n",
       "      <td>Sooo SAD I will miss you here in San Diego!!!</td>\n",
       "    </tr>\n",
       "    <tr>\n",
       "      <td>088c60f138</td>\n",
       "      <td>my boss is bullying me...</td>\n",
       "      <td>bullying me</td>\n",
       "      <td>negative</td>\n",
       "      <td>my boss is bullying me...</td>\n",
       "    </tr>\n",
       "  </tbody>\n",
       "</table>\n",
       "</div>"
      ],
      "text/plain": [
       "                                                      text  \\\n",
       "textID                                                       \n",
       "cb774db0d1             I`d have responded, if I were going   \n",
       "549e992a42   Sooo SAD I will miss you here in San Diego!!!   \n",
       "088c60f138                       my boss is bullying me...   \n",
       "\n",
       "                                  selected_text sentiment  \\\n",
       "textID                                                      \n",
       "cb774db0d1  I`d have responded, if I were going   neutral   \n",
       "549e992a42                             Sooo SAD  negative   \n",
       "088c60f138                          bullying me  negative   \n",
       "\n",
       "                                               clean_text  \n",
       "textID                                                     \n",
       "cb774db0d1            I`d have responded, if I were going  \n",
       "549e992a42  Sooo SAD I will miss you here in San Diego!!!  \n",
       "088c60f138                      my boss is bullying me...  "
      ]
     },
     "execution_count": 165,
     "metadata": {},
     "output_type": "execute_result"
    }
   ],
   "source": [
    "train_df.head(3)"
   ]
  },
  {
   "cell_type": "code",
   "execution_count": 197,
   "metadata": {},
   "outputs": [],
   "source": [
    "predicted_selection1 = vec_selected_text(train_df.clean_text, train_df.sentiment)"
   ]
  },
  {
   "cell_type": "code",
   "execution_count": 198,
   "metadata": {},
   "outputs": [
    {
     "data": {
      "text/plain": [
       "array(['going', 'miss', 'my', ..., 'good', 'worth', 'going'],\n",
       "      dtype='<U110')"
      ]
     },
     "execution_count": 198,
     "metadata": {},
     "output_type": "execute_result"
    }
   ],
   "source": [
    "predicted_selection1"
   ]
  },
  {
   "cell_type": "markdown",
   "metadata": {},
   "source": [
    "Model Evaluations"
   ]
  },
  {
   "cell_type": "code",
   "execution_count": null,
   "metadata": {},
   "outputs": [],
   "source": []
  },
  {
   "cell_type": "code",
   "execution_count": 199,
   "metadata": {},
   "outputs": [
    {
     "name": "stdout",
     "output_type": "stream",
     "text": [
      "Trivial jaccard score(selected text and main text) is 0.589\n"
     ]
    }
   ],
   "source": [
    "print ('Trivial jaccard score(selected text and main text) is %.3f'\\\n",
    "           %vec_jaccard(train_df.clean_text, train_df.selected_text).mean())"
   ]
  },
  {
   "cell_type": "markdown",
   "metadata": {},
   "source": [
    "When prediction is taken to be most predictive word of the sentiment in the tweet, the jaccard score actually drops to 0.24 "
   ]
  },
  {
   "cell_type": "code",
   "execution_count": 200,
   "metadata": {},
   "outputs": [
    {
     "name": "stdout",
     "output_type": "stream",
     "text": [
      "Jaccard score with predicted selection(selected text and predicted text) is 0.240\n"
     ]
    }
   ],
   "source": [
    "print ('Jaccard score with predicted selection(selected text and predicted text) is %.3f'\\\n",
    "           %vec_jaccard(train_df.selected_text, predicted_selection1).mean())"
   ]
  },
  {
   "cell_type": "markdown",
   "metadata": {},
   "source": [
    "Change the select predictive word to include the following conditions\n",
    "1. For all tweets with neutral ratings, select entire tweet irrespective of actual tweet"
   ]
  },
  {
   "cell_type": "code",
   "execution_count": 202,
   "metadata": {},
   "outputs": [],
   "source": [
    "def select_predictive_text2(text, sent):\n",
    "    tweet_tokens = tweet_tokenizer(text)\n",
    "    token_index = [vectorizer.vocabulary_[token.lower()] for token in tweet_tokens]\n",
    "    tweet_probs = [clf_predict_proba[ix, le.transform([sent])[0]] for ix in token_index]\n",
    "#     print(tweet_tokens)\n",
    "#     print(tweet_probs)\n",
    "    if sent == 'neutral':\n",
    "        selected_text = text\n",
    "    else:\n",
    "        try:\n",
    "            selected_text = tweet_tokens[np.argmax(tweet_probs)]\n",
    "        except:\n",
    "            selected_text = text\n",
    "        \n",
    "    return(selected_text)\n",
    "    \n",
    "vec_selected_text2 = np.vectorize(select_predictive_text2)"
   ]
  },
  {
   "cell_type": "code",
   "execution_count": 203,
   "metadata": {},
   "outputs": [],
   "source": [
    "predicted_selection2 = vec_selected_text2(train_df.clean_text, train_df.sentiment)"
   ]
  },
  {
   "cell_type": "code",
   "execution_count": 204,
   "metadata": {},
   "outputs": [
    {
     "name": "stdout",
     "output_type": "stream",
     "text": [
      "Jaccard score with predicted selection(selected text and predicted text, ver2) is 0.593\n"
     ]
    }
   ],
   "source": [
    "print ('Jaccard score with predicted selection(selected text and predicted text, ver2) is %.3f'\\\n",
    "           %vec_jaccard(train_df.selected_text, predicted_selection2).mean())"
   ]
  },
  {
   "cell_type": "markdown",
   "metadata": {},
   "source": [
    "To this, we add an additional rule as follows\n",
    "2. For all tweets with less than 4 words, select entire text irrespective of sentiment"
   ]
  },
  {
   "cell_type": "code",
   "execution_count": 393,
   "metadata": {},
   "outputs": [],
   "source": [
    "def select_predictive_text3(text, sent):\n",
    "    tweet_tokens = tweet_tokenizer(text)\n",
    "    token_index = [vectorizer.vocabulary_[token.lower()] for token in tweet_tokens]\n",
    "    tweet_probs = [clf_predict_proba[ix, le.transform([sent])[0]] for ix in token_index]\n",
    "#     print(tweet_tokens)\n",
    "#     print(tweet_probs)\n",
    "    if sent == 'neutral':\n",
    "        selected_text = text\n",
    "#         text_nourl = re.sub(r'(https?://\\S+)', '', text)\n",
    "#         selected_text = text_nourl\n",
    "    elif len(tweet_tokens) < 6:\n",
    "        selected_text = text\n",
    "    else:\n",
    "        try:\n",
    "            selected_text = tweet_tokens[np.argmax(tweet_probs)]\n",
    "        except:\n",
    "            selected_text = text\n",
    "        \n",
    "    return(selected_text)\n",
    "    \n",
    "vec_selected_text3 = np.vectorize(select_predictive_text3)"
   ]
  },
  {
   "cell_type": "code",
   "execution_count": 394,
   "metadata": {},
   "outputs": [],
   "source": [
    "predicted_selection3 = vec_selected_text3(train_df.clean_text, train_df.sentiment)"
   ]
  },
  {
   "cell_type": "code",
   "execution_count": 395,
   "metadata": {
    "scrolled": true
   },
   "outputs": [
    {
     "name": "stdout",
     "output_type": "stream",
     "text": [
      "Jaccard score with predicted selection(selected text and predicted text, ver3) is 0.605\n"
     ]
    }
   ],
   "source": [
    "print ('Jaccard score with predicted selection(selected text and predicted text, ver3) is %.3f'\\\n",
    "           %vec_jaccard(train_df.selected_text, predicted_selection3).mean())"
   ]
  },
  {
   "cell_type": "code",
   "execution_count": 396,
   "metadata": {},
   "outputs": [],
   "source": [
    "train_df['predicted_selection'] = predicted_selection3"
   ]
  },
  {
   "cell_type": "code",
   "execution_count": 397,
   "metadata": {},
   "outputs": [],
   "source": [
    "train_df['predicted_jaccard'] = vec_jaccard(train_df.selected_text, train_df.predicted_selection)"
   ]
  },
  {
   "cell_type": "code",
   "execution_count": 398,
   "metadata": {},
   "outputs": [
    {
     "data": {
      "text/html": [
       "<div>\n",
       "<style scoped>\n",
       "    .dataframe tbody tr th:only-of-type {\n",
       "        vertical-align: middle;\n",
       "    }\n",
       "\n",
       "    .dataframe tbody tr th {\n",
       "        vertical-align: top;\n",
       "    }\n",
       "\n",
       "    .dataframe thead th {\n",
       "        text-align: right;\n",
       "    }\n",
       "</style>\n",
       "<table border=\"1\" class=\"dataframe\">\n",
       "  <thead>\n",
       "    <tr style=\"text-align: right;\">\n",
       "      <th></th>\n",
       "      <th>text</th>\n",
       "      <th>selected_text</th>\n",
       "      <th>sentiment</th>\n",
       "      <th>clean_text</th>\n",
       "      <th>predicted_selection</th>\n",
       "      <th>predicted_jaccard</th>\n",
       "      <th>predicted_selection_parse</th>\n",
       "      <th>jaccard_parse</th>\n",
       "    </tr>\n",
       "    <tr>\n",
       "      <th>textID</th>\n",
       "      <th></th>\n",
       "      <th></th>\n",
       "      <th></th>\n",
       "      <th></th>\n",
       "      <th></th>\n",
       "      <th></th>\n",
       "      <th></th>\n",
       "      <th></th>\n",
       "    </tr>\n",
       "  </thead>\n",
       "  <tbody>\n",
       "    <tr>\n",
       "      <td>cb774db0d1</td>\n",
       "      <td>I`d have responded, if I were going</td>\n",
       "      <td>I`d have responded, if I were going</td>\n",
       "      <td>neutral</td>\n",
       "      <td>I`d have responded, if I were going</td>\n",
       "      <td>I`d have responded, if I were going</td>\n",
       "      <td>1.000000</td>\n",
       "      <td>I`d have responded, if I were going</td>\n",
       "      <td>1.000000</td>\n",
       "    </tr>\n",
       "    <tr>\n",
       "      <td>549e992a42</td>\n",
       "      <td>Sooo SAD I will miss you here in San Diego!!!</td>\n",
       "      <td>Sooo SAD</td>\n",
       "      <td>negative</td>\n",
       "      <td>Sooo SAD I will miss you here in San Diego!!!</td>\n",
       "      <td>miss</td>\n",
       "      <td>0.000000</td>\n",
       "      <td>Sooo SAD I will miss you here in San Diego!!!</td>\n",
       "      <td>0.200000</td>\n",
       "    </tr>\n",
       "    <tr>\n",
       "      <td>088c60f138</td>\n",
       "      <td>my boss is bullying me...</td>\n",
       "      <td>bullying me</td>\n",
       "      <td>negative</td>\n",
       "      <td>my boss is bullying me...</td>\n",
       "      <td>my boss is bullying me...</td>\n",
       "      <td>0.166667</td>\n",
       "      <td>my boss is bullying me...</td>\n",
       "      <td>0.166667</td>\n",
       "    </tr>\n",
       "    <tr>\n",
       "      <td>9642c003ef</td>\n",
       "      <td>what interview! leave me alone</td>\n",
       "      <td>leave me alone</td>\n",
       "      <td>negative</td>\n",
       "      <td>what interview! leave me alone</td>\n",
       "      <td>what interview! leave me alone</td>\n",
       "      <td>0.600000</td>\n",
       "      <td>what interview! leave me alone</td>\n",
       "      <td>0.600000</td>\n",
       "    </tr>\n",
       "    <tr>\n",
       "      <td>358bd9e861</td>\n",
       "      <td>Sons of ****, why couldn`t they put them on t...</td>\n",
       "      <td>Sons of ****,</td>\n",
       "      <td>negative</td>\n",
       "      <td>Sons of ****, why couldn`t they put them on th...</td>\n",
       "      <td>couldn</td>\n",
       "      <td>0.000000</td>\n",
       "      <td>Sons of ****, why couldn`t they put them on t...</td>\n",
       "      <td>0.214286</td>\n",
       "    </tr>\n",
       "  </tbody>\n",
       "</table>\n",
       "</div>"
      ],
      "text/plain": [
       "                                                         text  \\\n",
       "textID                                                          \n",
       "cb774db0d1                I`d have responded, if I were going   \n",
       "549e992a42      Sooo SAD I will miss you here in San Diego!!!   \n",
       "088c60f138                          my boss is bullying me...   \n",
       "9642c003ef                     what interview! leave me alone   \n",
       "358bd9e861   Sons of ****, why couldn`t they put them on t...   \n",
       "\n",
       "                                  selected_text sentiment  \\\n",
       "textID                                                      \n",
       "cb774db0d1  I`d have responded, if I were going   neutral   \n",
       "549e992a42                             Sooo SAD  negative   \n",
       "088c60f138                          bullying me  negative   \n",
       "9642c003ef                       leave me alone  negative   \n",
       "358bd9e861                        Sons of ****,  negative   \n",
       "\n",
       "                                                   clean_text  \\\n",
       "textID                                                          \n",
       "cb774db0d1                I`d have responded, if I were going   \n",
       "549e992a42      Sooo SAD I will miss you here in San Diego!!!   \n",
       "088c60f138                          my boss is bullying me...   \n",
       "9642c003ef                     what interview! leave me alone   \n",
       "358bd9e861  Sons of ****, why couldn`t they put them on th...   \n",
       "\n",
       "                            predicted_selection  predicted_jaccard  \\\n",
       "textID                                                               \n",
       "cb774db0d1  I`d have responded, if I were going           1.000000   \n",
       "549e992a42                                 miss           0.000000   \n",
       "088c60f138            my boss is bullying me...           0.166667   \n",
       "9642c003ef       what interview! leave me alone           0.600000   \n",
       "358bd9e861                               couldn           0.000000   \n",
       "\n",
       "                                    predicted_selection_parse  jaccard_parse  \n",
       "textID                                                                        \n",
       "cb774db0d1                I`d have responded, if I were going       1.000000  \n",
       "549e992a42      Sooo SAD I will miss you here in San Diego!!!       0.200000  \n",
       "088c60f138                          my boss is bullying me...       0.166667  \n",
       "9642c003ef                     what interview! leave me alone       0.600000  \n",
       "358bd9e861   Sons of ****, why couldn`t they put them on t...       0.214286  "
      ]
     },
     "execution_count": 398,
     "metadata": {},
     "output_type": "execute_result"
    }
   ],
   "source": [
    "train_df.head()"
   ]
  },
  {
   "cell_type": "markdown",
   "metadata": {},
   "source": [
    "Lets write this to a file and investigae common sources of mismatch"
   ]
  },
  {
   "cell_type": "code",
   "execution_count": 400,
   "metadata": {
    "scrolled": true
   },
   "outputs": [],
   "source": [
    "train_df.to_csv('../data/interim/bag_of_word_predictions_v3.csv')"
   ]
  },
  {
   "cell_type": "markdown",
   "metadata": {},
   "source": [
    "## Use Parse Trees"
   ]
  },
  {
   "cell_type": "markdown",
   "metadata": {},
   "source": [
    "In the next version, we will make use of parse trees to get phrases around the words best predictive of sentiment in the tweet"
   ]
  },
  {
   "cell_type": "code",
   "execution_count": 245,
   "metadata": {},
   "outputs": [],
   "source": [
    "import spacy\n",
    "from spacy import displacy\n",
    "import en_core_web_sm"
   ]
  },
  {
   "cell_type": "code",
   "execution_count": 247,
   "metadata": {},
   "outputs": [],
   "source": [
    "# import en_core_web_lg\n",
    "nlp = en_core_web_sm.load()"
   ]
  },
  {
   "cell_type": "code",
   "execution_count": 442,
   "metadata": {},
   "outputs": [],
   "source": [
    "sents = list(doc.sents)"
   ]
  },
  {
   "cell_type": "code",
   "execution_count": 443,
   "metadata": {},
   "outputs": [
    {
     "data": {
      "text/plain": [
       "[both electronic keys stopped working.,\n",
       " there is no keyhole!,\n",
       " cant get in my car.,\n",
       " so much for technology]"
      ]
     },
     "execution_count": 443,
     "metadata": {},
     "output_type": "execute_result"
    }
   ],
   "source": [
    "sents"
   ]
  },
  {
   "cell_type": "code",
   "execution_count": 444,
   "metadata": {},
   "outputs": [
    {
     "data": {
      "text/plain": [
       "[both electronic keys, no keyhole, my car, technology]"
      ]
     },
     "execution_count": 444,
     "metadata": {},
     "output_type": "execute_result"
    }
   ],
   "source": [
    "chunks = list(doc.noun_chunks)\n",
    "chunks"
   ]
  },
  {
   "cell_type": "code",
   "execution_count": 447,
   "metadata": {},
   "outputs": [
    {
     "data": {
      "text/plain": [
       "'both electronic keys'"
      ]
     },
     "execution_count": 447,
     "metadata": {},
     "output_type": "execute_result"
    }
   ],
   "source": [
    "str(chunks[0])"
   ]
  },
  {
   "cell_type": "code",
   "execution_count": 464,
   "metadata": {},
   "outputs": [],
   "source": [
    "def select_predictive_text4(text, sent):\n",
    "    tweet_tokens = tweet_tokenizer(text)\n",
    "    token_index = [vectorizer.vocabulary_[token.lower()] for token in tweet_tokens]\n",
    "    tweet_probs = [clf_predict_proba[ix, le.transform([sent])[0]] for ix in token_index]\n",
    "#     tweet_splits = text.\n",
    "#     print(tweet_tokens)\n",
    "#     print(tweet_probs)\n",
    "    if sent == 'neutral':\n",
    "#         text_nourl = re.sub(r'(https?://\\S+)', '', text)\n",
    "        selected_text = text\n",
    "    elif len(tweet_tokens) < 6:\n",
    "        selected_text = text\n",
    "    else:\n",
    "        try:\n",
    "            selected_word = tweet_tokens[np.argmax(tweet_probs)]\n",
    "            doc = nlp(text)\n",
    "            chunks = list(doc.noun_chunks)\n",
    "            sents = list(doc.sents)\n",
    "            for n_chunk in chunks:\n",
    "                if selected_word in str(n_chunk):\n",
    "                    selected_text = str(n_chunk)\n",
    "#                     print (selected_text)\n",
    "                    break\n",
    "            if selected_text == '':\n",
    "                selected_text = selected_word\n",
    "        except:\n",
    "            selected_text = text\n",
    "        \n",
    "    return(selected_text)\n",
    "    \n",
    "vec_selected_text4 = np.vectorize(select_predictive_text4)"
   ]
  },
  {
   "cell_type": "code",
   "execution_count": 465,
   "metadata": {},
   "outputs": [],
   "source": [
    "predicted_selection4 = vec_selected_text4(train_df.text, train_df.sentiment)"
   ]
  },
  {
   "cell_type": "code",
   "execution_count": 466,
   "metadata": {},
   "outputs": [
    {
     "name": "stdout",
     "output_type": "stream",
     "text": [
      "Jaccard score with predicted selection(selected text and predicted text, ver4) is 0.584\n"
     ]
    }
   ],
   "source": [
    "print ('Jaccard score with predicted selection(selected text and predicted text, ver4) is %.3f'\\\n",
    "           %vec_jaccard(train_df.selected_text, predicted_selection4).mean())"
   ]
  },
  {
   "cell_type": "code",
   "execution_count": 467,
   "metadata": {},
   "outputs": [],
   "source": [
    "train_df['predicted_selection_parse'] = predicted_selection4\n",
    "train_df['jaccard_parse'] = vec_jaccard(train_df.selected_text, train_df.predicted_selection_parse)"
   ]
  },
  {
   "cell_type": "code",
   "execution_count": 468,
   "metadata": {},
   "outputs": [],
   "source": [
    "train_df.to_csv('../data/interim/bag_of_word_predictions_parsed_v4.csv')"
   ]
  },
  {
   "cell_type": "code",
   "execution_count": 489,
   "metadata": {},
   "outputs": [],
   "source": [
    "def select_predictive_text5(text, sent):\n",
    "    tweet_tokens = tweet_tokenizer(text)\n",
    "    token_index = [vectorizer.vocabulary_[token.lower()] for token in tweet_tokens]\n",
    "    tweet_probs = [clf_predict_proba[ix, le.transform([sent])[0]] for ix in token_index]\n",
    "#     tweet_splits = text.\n",
    "#     print(tweet_tokens)\n",
    "#     print(tweet_probs)\n",
    "    if sent == 'neutral':\n",
    "#         text_nourl = re.sub(r'(https?://\\S+)', '', text)\n",
    "        selected_text = text\n",
    "    elif len(tweet_tokens) < 5:\n",
    "        selected_text = text\n",
    "    else:\n",
    "        try:\n",
    "            selected_word = tweet_tokens[np.argmax(tweet_probs)]\n",
    "            doc = nlp(text)\n",
    "            for token in doc:\n",
    "                if selected_word in str(token.text):\n",
    "                    selected_text = doc[token.i-2:token.i+3]\n",
    "#                     print(selected_text)\n",
    "            if selected_text == '':\n",
    "                selected_text = selected_word\n",
    "        except:\n",
    "            selected_text = text\n",
    "        \n",
    "    return(selected_text)\n",
    "    \n",
    "vec_selected_text5 = np.vectorize(select_predictive_text5)"
   ]
  },
  {
   "cell_type": "code",
   "execution_count": 490,
   "metadata": {},
   "outputs": [],
   "source": [
    "predicted_selection5 = vec_selected_text5(train_df.text, train_df.sentiment)"
   ]
  },
  {
   "cell_type": "code",
   "execution_count": 491,
   "metadata": {},
   "outputs": [
    {
     "name": "stdout",
     "output_type": "stream",
     "text": [
      "Jaccard score with predicted selection(selected text and predicted text, ver5) is 0.589\n"
     ]
    }
   ],
   "source": [
    "print ('Jaccard score with predicted selection(selected text and predicted text, ver5) is %.3f'\\\n",
    "           %vec_jaccard(train_df.selected_text, predicted_selection5).mean())"
   ]
  },
  {
   "cell_type": "markdown",
   "metadata": {},
   "source": [
    "## Conclusion"
   ]
  },
  {
   "cell_type": "markdown",
   "metadata": {},
   "source": [
    "Of all the approaches tested, best performance on training set is obtained on version 3 with a mean jaccard score of 0.605. However, this is only a small improvement over the trivial jaccard score of 0.589"
   ]
  },
  {
   "cell_type": "code",
   "execution_count": 492,
   "metadata": {},
   "outputs": [],
   "source": [
    "vec_selected_text_best = np.vectorize(select_predictive_text3)"
   ]
  },
  {
   "cell_type": "code",
   "execution_count": null,
   "metadata": {},
   "outputs": [],
   "source": []
  },
  {
   "cell_type": "code",
   "execution_count": null,
   "metadata": {},
   "outputs": [],
   "source": []
  },
  {
   "cell_type": "code",
   "execution_count": null,
   "metadata": {},
   "outputs": [],
   "source": []
  },
  {
   "cell_type": "code",
   "execution_count": null,
   "metadata": {},
   "outputs": [],
   "source": []
  },
  {
   "cell_type": "code",
   "execution_count": null,
   "metadata": {},
   "outputs": [],
   "source": []
  },
  {
   "cell_type": "code",
   "execution_count": null,
   "metadata": {},
   "outputs": [],
   "source": []
  }
 ],
 "metadata": {
  "kernelspec": {
   "display_name": "Python 3",
   "language": "python",
   "name": "python3"
  },
  "language_info": {
   "codemirror_mode": {
    "name": "ipython",
    "version": 3
   },
   "file_extension": ".py",
   "mimetype": "text/x-python",
   "name": "python",
   "nbconvert_exporter": "python",
   "pygments_lexer": "ipython3",
   "version": "3.7.4"
  }
 },
 "nbformat": 4,
 "nbformat_minor": 2
}
