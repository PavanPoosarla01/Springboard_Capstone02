{
 "cells": [
  {
   "cell_type": "markdown",
   "metadata": {},
   "source": [
    "# Springboard Capstone 2: Tweet Sentiment Extraction"
   ]
  },
  {
   "cell_type": "markdown",
   "metadata": {},
   "source": [
    "## Solution Approach 1: Simple Bag-of-Words with post processing output"
   ]
  },
  {
   "cell_type": "markdown",
   "metadata": {},
   "source": [
    "Based on teh EDA on the dataset, we see that\n",
    "1. If the sentiment is neutral, majority of the tweets have the entre text replicated in the selcted text\n",
    "2. If the length of tweet is small(2-3 words), even then majority of words are selected\n",
    "3. Selected text is usually 5-10 words for positive and negative sentiments\n",
    "\n",
    "Based on this observations, we would like to test a bag-of-words approach to preductors with post processing to capture the phrase with higest correlation with the sentiment"
   ]
  },
  {
   "cell_type": "code",
   "execution_count": 233,
   "metadata": {},
   "outputs": [],
   "source": [
    "# imports\n",
    "# imports\n",
    "import numpy as np\n",
    "import pandas as pd\n",
    "import matplotlib.pyplot as plt\n",
    "import seaborn as sns\n",
    "import sklearn\n",
    "\n",
    "import re\n",
    "import nltk"
   ]
  },
  {
   "cell_type": "code",
   "execution_count": 234,
   "metadata": {},
   "outputs": [],
   "source": [
    "# Read data into memory\n",
    "training_fn = r'../data/raw/train.csv'\n",
    "test_fn = r'../data/raw/test.csv'"
   ]
  },
  {
   "cell_type": "code",
   "execution_count": 235,
   "metadata": {},
   "outputs": [],
   "source": [
    "train_df = pd.read_csv(training_fn, index_col = 'textID')\n",
    "test_df = pd.read_csv(test_fn, index_col = 'textID')"
   ]
  },
  {
   "cell_type": "code",
   "execution_count": 236,
   "metadata": {},
   "outputs": [],
   "source": [
    "def drop_missing_rows(df_in):\n",
    "    df_out = df_in.dropna(axis = 0)\n",
    "    return df_out  "
   ]
  },
  {
   "cell_type": "code",
   "execution_count": 237,
   "metadata": {},
   "outputs": [],
   "source": [
    "def text_preprocess(text):\n",
    "    # Strip leading and lagging whitespace\n",
    "    text = text.strip()\n",
    "    \n",
    "    # Remove accented characters\n",
    "#     text = unicodedata.normalize('NFKD', text).encode('ascii', 'ignore').decode('utf-8', 'ignore')\n",
    "    \n",
    "    # Convert all text to lower case\n",
    "    text.lower()\n",
    "    \n",
    "    # Take raw text and remove all audience reactions\n",
    "#     text = re.sub('\\((.*?)\\)', '', text)\n",
    "\n",
    "    # Remove url's from the tweets.\n",
    "#     text = re.sub(r'(https?://\\S+)', '', text)\n",
    "    return text"
   ]
  },
  {
   "cell_type": "code",
   "execution_count": 238,
   "metadata": {},
   "outputs": [],
   "source": [
    "# Drop missing data\n",
    "train_df = drop_missing_rows(train_df)"
   ]
  },
  {
   "cell_type": "markdown",
   "metadata": {},
   "source": [
    "Need to add a prepocessing step where selected text is NaN for input text of NaN"
   ]
  },
  {
   "cell_type": "code",
   "execution_count": 239,
   "metadata": {},
   "outputs": [],
   "source": [
    "train_df['clean_text'] = train_df.text.apply(text_preprocess)"
   ]
  },
  {
   "cell_type": "code",
   "execution_count": 240,
   "metadata": {},
   "outputs": [
    {
     "data": {
      "text/html": [
       "<div>\n",
       "<style scoped>\n",
       "    .dataframe tbody tr th:only-of-type {\n",
       "        vertical-align: middle;\n",
       "    }\n",
       "\n",
       "    .dataframe tbody tr th {\n",
       "        vertical-align: top;\n",
       "    }\n",
       "\n",
       "    .dataframe thead th {\n",
       "        text-align: right;\n",
       "    }\n",
       "</style>\n",
       "<table border=\"1\" class=\"dataframe\">\n",
       "  <thead>\n",
       "    <tr style=\"text-align: right;\">\n",
       "      <th></th>\n",
       "      <th>text</th>\n",
       "      <th>selected_text</th>\n",
       "      <th>sentiment</th>\n",
       "      <th>clean_text</th>\n",
       "    </tr>\n",
       "    <tr>\n",
       "      <th>textID</th>\n",
       "      <th></th>\n",
       "      <th></th>\n",
       "      <th></th>\n",
       "      <th></th>\n",
       "    </tr>\n",
       "  </thead>\n",
       "  <tbody>\n",
       "    <tr>\n",
       "      <td>cb774db0d1</td>\n",
       "      <td>I`d have responded, if I were going</td>\n",
       "      <td>I`d have responded, if I were going</td>\n",
       "      <td>neutral</td>\n",
       "      <td>I`d have responded, if I were going</td>\n",
       "    </tr>\n",
       "    <tr>\n",
       "      <td>549e992a42</td>\n",
       "      <td>Sooo SAD I will miss you here in San Diego!!!</td>\n",
       "      <td>Sooo SAD</td>\n",
       "      <td>negative</td>\n",
       "      <td>Sooo SAD I will miss you here in San Diego!!!</td>\n",
       "    </tr>\n",
       "    <tr>\n",
       "      <td>088c60f138</td>\n",
       "      <td>my boss is bullying me...</td>\n",
       "      <td>bullying me</td>\n",
       "      <td>negative</td>\n",
       "      <td>my boss is bullying me...</td>\n",
       "    </tr>\n",
       "    <tr>\n",
       "      <td>9642c003ef</td>\n",
       "      <td>what interview! leave me alone</td>\n",
       "      <td>leave me alone</td>\n",
       "      <td>negative</td>\n",
       "      <td>what interview! leave me alone</td>\n",
       "    </tr>\n",
       "    <tr>\n",
       "      <td>358bd9e861</td>\n",
       "      <td>Sons of ****, why couldn`t they put them on t...</td>\n",
       "      <td>Sons of ****,</td>\n",
       "      <td>negative</td>\n",
       "      <td>Sons of ****, why couldn`t they put them on th...</td>\n",
       "    </tr>\n",
       "  </tbody>\n",
       "</table>\n",
       "</div>"
      ],
      "text/plain": [
       "                                                         text  \\\n",
       "textID                                                          \n",
       "cb774db0d1                I`d have responded, if I were going   \n",
       "549e992a42      Sooo SAD I will miss you here in San Diego!!!   \n",
       "088c60f138                          my boss is bullying me...   \n",
       "9642c003ef                     what interview! leave me alone   \n",
       "358bd9e861   Sons of ****, why couldn`t they put them on t...   \n",
       "\n",
       "                                  selected_text sentiment  \\\n",
       "textID                                                      \n",
       "cb774db0d1  I`d have responded, if I were going   neutral   \n",
       "549e992a42                             Sooo SAD  negative   \n",
       "088c60f138                          bullying me  negative   \n",
       "9642c003ef                       leave me alone  negative   \n",
       "358bd9e861                        Sons of ****,  negative   \n",
       "\n",
       "                                                   clean_text  \n",
       "textID                                                         \n",
       "cb774db0d1                I`d have responded, if I were going  \n",
       "549e992a42      Sooo SAD I will miss you here in San Diego!!!  \n",
       "088c60f138                          my boss is bullying me...  \n",
       "9642c003ef                     what interview! leave me alone  \n",
       "358bd9e861  Sons of ****, why couldn`t they put them on th...  "
      ]
     },
     "execution_count": 240,
     "metadata": {},
     "output_type": "execute_result"
    }
   ],
   "source": [
    "train_df.head(5)"
   ]
  },
  {
   "cell_type": "markdown",
   "metadata": {},
   "source": [
    "## Train Model for Sentiment Analysis"
   ]
  },
  {
   "cell_type": "markdown",
   "metadata": {},
   "source": [
    "The goal of our model is to get the words in each model which are predictive of a particular sentiment and find the phrase around the word as selected text. In the first part, we develop  amodel that can provide the words strongly predictive of a sentiment"
   ]
  },
  {
   "cell_type": "code",
   "execution_count": 241,
   "metadata": {},
   "outputs": [],
   "source": [
    "from sklearn.feature_extraction.text import CountVectorizer, TfidfVectorizer\n",
    "\n",
    "from sklearn.preprocessing import LabelEncoder\n",
    "# vectorizer = CountVectorizer()\n",
    "vectorizer = TfidfVectorizer()\n",
    "\n",
    "vectorizer.fit(train_df.clean_text)\n",
    "X_train_full = vectorizer.transform(train_df.clean_text)\n",
    "le = LabelEncoder()\n",
    "\n",
    "y_train_full = le.fit_transform(train_df.sentiment)"
   ]
  },
  {
   "cell_type": "code",
   "execution_count": 242,
   "metadata": {},
   "outputs": [
    {
     "data": {
      "text/plain": [
       "array(['negative', 'neutral', 'positive'], dtype=object)"
      ]
     },
     "execution_count": 242,
     "metadata": {},
     "output_type": "execute_result"
    }
   ],
   "source": [
    "le.classes_"
   ]
  },
  {
   "cell_type": "code",
   "execution_count": 243,
   "metadata": {},
   "outputs": [
    {
     "data": {
      "text/plain": [
       "(27480, 26439)"
      ]
     },
     "execution_count": 243,
     "metadata": {},
     "output_type": "execute_result"
    }
   ],
   "source": [
    "X_train_full.shape"
   ]
  },
  {
   "cell_type": "code",
   "execution_count": 244,
   "metadata": {},
   "outputs": [],
   "source": [
    "# Get training and testing split\n",
    "from sklearn.model_selection import train_test_split\n",
    "X_train, X_test, y_train, y_test = train_test_split(X_train_full, y_train_full, test_size = 0.3)"
   ]
  },
  {
   "cell_type": "markdown",
   "metadata": {},
   "source": [
    "Lets train a Classification Model"
   ]
  },
  {
   "cell_type": "code",
   "execution_count": 245,
   "metadata": {},
   "outputs": [],
   "source": [
    "from sklearn.metrics import balanced_accuracy_score\n",
    "from sklearn.metrics import fbeta_score, make_scorer\n",
    "from sklearn.metrics import roc_auc_score\n",
    "bal_acc_scorer = make_scorer(balanced_accuracy_score, adjusted = True)\n",
    "# ROC AUC score using One-vs-Rest and weighted by prevalence\n",
    "roc_auc_scorer = make_scorer(roc_auc_score, needs_proba = True, multi_class = 'ovr',average = \"weighted\")"
   ]
  },
  {
   "cell_type": "code",
   "execution_count": 246,
   "metadata": {},
   "outputs": [
    {
     "name": "stdout",
     "output_type": "stream",
     "text": [
      "Balanced accuracy score (training)is  0.8140177430049659\n",
      "ROC AUC score (training)is  0.9282071321822001\n"
     ]
    }
   ],
   "source": [
    "from sklearn.linear_model import LogisticRegression\n",
    "from sklearn.naive_bayes import MultinomialNB\n",
    "from sklearn.model_selection import GridSearchCV\n",
    "\n",
    "\n",
    "# nb = MultinomialNB()\n",
    "clf = LogisticRegression(class_weight = 'balanced', multi_class = 'ovr', solver = 'newton-cg')\n",
    "clf.fit(X_train, y_train)\n",
    "y_pred = clf.predict(X_train)\n",
    "y_prob = clf.predict_proba(X_train)\n",
    "\n",
    "print ('Balanced accuracy score (training)is ', balanced_accuracy_score(clf.predict(X_train), y_train))\n",
    "print ('ROC AUC score (training)is ', roc_auc_score(y_train, y_prob, average = \"weighted\", multi_class = 'ovr'))"
   ]
  },
  {
   "cell_type": "code",
   "execution_count": 247,
   "metadata": {
    "scrolled": true
   },
   "outputs": [
    {
     "name": "stdout",
     "output_type": "stream",
     "text": [
      "Balanced accuracy score (test)is  0.7986958616906027\n",
      "ROC AUC score (test)is  0.8358438084550567\n"
     ]
    }
   ],
   "source": [
    "# On Test set\n",
    "y_pred_test = clf.predict(X_test)\n",
    "y_prob_test = clf.predict_proba(X_test)\n",
    "\n",
    "print ('Balanced accuracy score (test)is ', balanced_accuracy_score(nb.predict(X_test), y_test))\n",
    "print ('ROC AUC score (test)is ', roc_auc_score(y_test, y_prob_test, average = \"weighted\", multi_class = 'ovr'))"
   ]
  },
  {
   "cell_type": "code",
   "execution_count": 248,
   "metadata": {},
   "outputs": [],
   "source": [
    "C_ls = list(np.logspace(-5, 5, num=10))\n",
    "# C_ls = [1.0]"
   ]
  },
  {
   "cell_type": "code",
   "execution_count": 249,
   "metadata": {},
   "outputs": [
    {
     "data": {
      "text/plain": [
       "{'mean_fit_time': array([ 0.19683027,  0.26337414,  0.38194323,  0.63993907,  0.97692437,\n",
       "         1.6802238 ,  2.61034803,  4.97588968, 13.47374196, 24.99771619]),\n",
       " 'std_fit_time': array([0.00765279, 0.05440572, 0.03335962, 0.08700276, 0.05713898,\n",
       "        0.10179962, 0.23005246, 0.58223681, 1.35082008, 2.26275034]),\n",
       " 'mean_score_time': array([0.01562047, 0.02187247, 0.00625043, 0.01249723, 0.01068845,\n",
       "        0.00937295, 0.01787243, 0.01874542, 0.02077494, 0.00886431]),\n",
       " 'std_score_time': array([0.00987933, 0.0124953 , 0.00765518, 0.00624862, 0.00671891,\n",
       "        0.00765298, 0.0070956 , 0.00624836, 0.01403454, 0.00412639]),\n",
       " 'param_C': masked_array(data=[1e-05, 0.0001291549665014884, 0.0016681005372000592,\n",
       "                    0.021544346900318846, 0.2782559402207126,\n",
       "                    3.593813663804626, 46.41588833612782,\n",
       "                    599.4842503189421, 7742.636826811277, 100000.0],\n",
       "              mask=[False, False, False, False, False, False, False, False,\n",
       "                    False, False],\n",
       "        fill_value='?',\n",
       "             dtype=object),\n",
       " 'params': [{'C': 1e-05},\n",
       "  {'C': 0.0001291549665014884},\n",
       "  {'C': 0.0016681005372000592},\n",
       "  {'C': 0.021544346900318846},\n",
       "  {'C': 0.2782559402207126},\n",
       "  {'C': 3.593813663804626},\n",
       "  {'C': 46.41588833612782},\n",
       "  {'C': 599.4842503189421},\n",
       "  {'C': 7742.636826811277},\n",
       "  {'C': 100000.0}],\n",
       " 'split0_test_score': array([0.77252973, 0.77263979, 0.77398761, 0.78650485, 0.82134657,\n",
       "        0.83265125, 0.80666182, 0.76668313, 0.73731176, 0.72816722]),\n",
       " 'split1_test_score': array([0.7603469 , 0.76046466, 0.7619069 , 0.77548965, 0.81483979,\n",
       "        0.82879921, 0.80108742, 0.75792257, 0.72778672, 0.71511844]),\n",
       " 'split2_test_score': array([0.77460099, 0.77471038, 0.77600484, 0.78781242, 0.82073663,\n",
       "        0.83348602, 0.80840849, 0.76434172, 0.73080518, 0.71396938]),\n",
       " 'split3_test_score': array([0.77461973, 0.77471808, 0.77609088, 0.78835528, 0.82070759,\n",
       "        0.83012509, 0.80148124, 0.75858881, 0.72449681, 0.7064744 ]),\n",
       " 'split4_test_score': array([0.77647572, 0.77658205, 0.7778079 , 0.78912262, 0.82076038,\n",
       "        0.83200236, 0.80997955, 0.77380722, 0.74452471, 0.7283101 ]),\n",
       " 'mean_test_score': array([0.77171462, 0.77182299, 0.77315963, 0.78545696, 0.81967819,\n",
       "        0.83141279, 0.80552371, 0.76426869, 0.73298503, 0.71840791]),\n",
       " 'std_test_score': array([0.00581942, 0.00581457, 0.00575506, 0.0050563 , 0.00243083,\n",
       "        0.00171281, 0.00361923, 0.00581984, 0.00715135, 0.00855836]),\n",
       " 'rank_test_score': array([ 7,  6,  5,  4,  2,  1,  3,  8,  9, 10])}"
      ]
     },
     "execution_count": 249,
     "metadata": {},
     "output_type": "execute_result"
    }
   ],
   "source": [
    "# Grid Search CV\n",
    "from sklearn.model_selection import GridSearchCV\n",
    "C_ls = np.logspace(-5, 5, num=10)\n",
    "param_grid = {'C':C_ls}\n",
    "clf_grid = GridSearchCV(clf, param_grid=param_grid, scoring = roc_auc_scorer, n_jobs = -1)\n",
    "clf_grid.fit(X_train, y_train)\n",
    "clf_grid.cv_results_"
   ]
  },
  {
   "cell_type": "markdown",
   "metadata": {},
   "source": [
    "We test the model performance using both the CountVectorizer and TfidfVectorizer. Then, we use Tfidf vectorizer as it gives higher performance"
   ]
  },
  {
   "cell_type": "code",
   "execution_count": 250,
   "metadata": {},
   "outputs": [],
   "source": [
    "clf_best = clf_grid.best_estimator_"
   ]
  },
  {
   "cell_type": "code",
   "execution_count": 251,
   "metadata": {
    "scrolled": true
   },
   "outputs": [
    {
     "name": "stdout",
     "output_type": "stream",
     "text": [
      "The best parameter, C , selected is 3.593813663804626\n"
     ]
    }
   ],
   "source": [
    "print ('The best parameter, C , selected is',clf_best.get_params()['C'])"
   ]
  },
  {
   "cell_type": "code",
   "execution_count": 252,
   "metadata": {
    "scrolled": true
   },
   "outputs": [
    {
     "name": "stdout",
     "output_type": "stream",
     "text": [
      "Score of the best model score on the test set is 0.8348470474628167\n"
     ]
    }
   ],
   "source": [
    "best_roc_auc_score = roc_auc_score(y_test, clf_best.predict_proba(X_test), average = \"weighted\", multi_class = 'ovr')\n",
    "print('Score of the best model score on the test set is', best_roc_auc_score)"
   ]
  },
  {
   "cell_type": "code",
   "execution_count": 253,
   "metadata": {},
   "outputs": [
    {
     "name": "stdout",
     "output_type": "stream",
     "text": [
      "              precision    recall  f1-score   support\n",
      "\n",
      "           0       0.67      0.67      0.67      2302\n",
      "           1       0.65      0.67      0.66      3369\n",
      "           2       0.75      0.73      0.74      2573\n",
      "\n",
      "    accuracy                           0.69      8244\n",
      "   macro avg       0.69      0.69      0.69      8244\n",
      "weighted avg       0.69      0.69      0.69      8244\n",
      "\n"
     ]
    }
   ],
   "source": [
    "from sklearn.metrics import classification_report\n",
    "print(classification_report(y_test, clf_best.predict(X_test)))"
   ]
  },
  {
   "cell_type": "code",
   "execution_count": 254,
   "metadata": {},
   "outputs": [
    {
     "name": "stdout",
     "output_type": "stream",
     "text": [
      "Confusion matrix, without normalization\n",
      "[[1548  617  137]\n",
      " [ 635 2244  490]\n",
      " [ 131  569 1873]]\n",
      "Normalized confusion matrix\n",
      "[[0.67245873 0.2680278  0.05951347]\n",
      " [0.18848323 0.66607302 0.14544375]\n",
      " [0.05091333 0.22114264 0.72794403]]\n"
     ]
    },
    {
     "data": {
      "image/png": "[encoded data removed]",
      "text/plain": [
       "<Figure size 504x504 with 2 Axes>"
      ]
     },
     "metadata": {
      "needs_background": "light"
     },
     "output_type": "display_data"
    },
    {
     "data": {
      "image/png": "[encoded data removed]",
      "text/plain": [
       "<Figure size 504x504 with 2 Axes>"
      ]
     },
     "metadata": {
      "needs_background": "light"
     },
     "output_type": "display_data"
    }
   ],
   "source": [
    "# Confusion Matrix of Classifier\n",
    "from sklearn.metrics import plot_confusion_matrix\n",
    "# Plot non-normalized confusion matrix\n",
    "titles_options = [(\"Confusion matrix, without normalization\", None),\n",
    "                  (\"Normalized confusion matrix\", 'true')]\n",
    "for title, normalize in titles_options:\n",
    "    disp = plot_confusion_matrix(clf_best, X_test, y_test,\n",
    "                                 display_labels=list(le.classes_),\n",
    "                                 cmap=plt.cm.Blues,\n",
    "                                 normalize=normalize)\n",
    "    disp.ax_.set_title(title)\n",
    "    disp.figure_.set_size_inches((7,7))\n",
    "\n",
    "    print(title)\n",
    "    print(disp.confusion_matrix)\n",
    "\n",
    "plt.show()"
   ]
  },
  {
   "cell_type": "markdown",
   "metadata": {},
   "source": [
    "Use the trained model to get the probability of each calss for each word in the vectorizer"
   ]
  },
  {
   "cell_type": "markdown",
   "metadata": {},
   "source": [
    "### Post Processing"
   ]
  },
  {
   "cell_type": "code",
   "execution_count": 255,
   "metadata": {},
   "outputs": [],
   "source": [
    "words = np.array(vectorizer.get_feature_names())"
   ]
  },
  {
   "cell_type": "code",
   "execution_count": 256,
   "metadata": {},
   "outputs": [
    {
     "data": {
      "text/plain": [
       "(26439,)"
      ]
     },
     "execution_count": 256,
     "metadata": {},
     "output_type": "execute_result"
    }
   ],
   "source": [
    "words.shape"
   ]
  },
  {
   "cell_type": "code",
   "execution_count": 257,
   "metadata": {},
   "outputs": [
    {
     "data": {
      "text/plain": [
       "26439"
      ]
     },
     "execution_count": 257,
     "metadata": {},
     "output_type": "execute_result"
    }
   ],
   "source": [
    "X_train_full.shape[1]"
   ]
  },
  {
   "cell_type": "code",
   "execution_count": 258,
   "metadata": {},
   "outputs": [],
   "source": [
    "x = np.eye(words.shape[0])"
   ]
  },
  {
   "cell_type": "code",
   "execution_count": 259,
   "metadata": {},
   "outputs": [],
   "source": [
    "clf_predict_proba = clf_best.predict_proba(x)\n",
    "# clf_predict_proba[:,1]"
   ]
  },
  {
   "cell_type": "code",
   "execution_count": 260,
   "metadata": {},
   "outputs": [
    {
     "data": {
      "text/plain": [
       "(26439, 3)"
      ]
     },
     "execution_count": 260,
     "metadata": {},
     "output_type": "execute_result"
    }
   ],
   "source": [
    "np.shape(predicted_proba)"
   ]
  },
  {
   "cell_type": "code",
   "execution_count": 261,
   "metadata": {},
   "outputs": [
    {
     "data": {
      "text/plain": [
       "2"
      ]
     },
     "execution_count": 261,
     "metadata": {},
     "output_type": "execute_result"
    }
   ],
   "source": [
    "le.transform([\"positive\"])[0]"
   ]
  },
  {
   "cell_type": "code",
   "execution_count": 262,
   "metadata": {},
   "outputs": [
    {
     "name": "stdout",
     "output_type": "stream",
     "text": [
      "The encoded labels corresponding to classes \n",
      " ['negative' 'neutral' 'positive'] are \n",
      " [0 1 2]\n"
     ]
    }
   ],
   "source": [
    "print ('The encoded labels corresponding to classes \\n',le.classes_, 'are \\n',le.transform(le.classes_))"
   ]
  },
  {
   "cell_type": "code",
   "execution_count": 263,
   "metadata": {},
   "outputs": [
    {
     "name": "stdout",
     "output_type": "stream",
     "text": [
      "Good words\t     P(negative | word)\n",
      "                fail 0.96\n",
      "               sucks 0.97\n",
      "                miss 0.98\n",
      "              stupid 0.98\n",
      "                 sad 0.99\n",
      "Bad words\t     P(negative | word)\n",
      "                love 0.00\n",
      "              thanks 0.00\n",
      "             awesome 0.00\n",
      "                glad 0.00\n",
      "               thank 0.00\n",
      "Good words\t     P(neutral | word)\n",
      "             airport 0.87\n",
      "             opinion 0.87\n",
      "                jump 0.87\n",
      "                  ed 0.87\n",
      "                gots 0.89\n",
      "Bad words\t     P(neutral | word)\n",
      "                love 0.00\n",
      "               happy 0.00\n",
      "              thanks 0.00\n",
      "                good 0.01\n",
      "                nice 0.01\n",
      "Good words\t     P(positive | word)\n",
      "               great 0.99\n",
      "                nice 0.99\n",
      "               happy 0.99\n",
      "              thanks 1.00\n",
      "                love 1.00\n",
      "Bad words\t     P(positive | word)\n",
      "                 sad 0.00\n",
      "               sorry 0.00\n",
      "                miss 0.00\n",
      "              missed 0.00\n",
      "                hate 0.00\n"
     ]
    }
   ],
   "source": [
    "probs_dict = {}\n",
    "for sent in le.classes_:\n",
    "\n",
    "    probs_dict[sent+'_probs'] = clf_predict_proba[:, le.transform([sent])[0]]\n",
    "    ind = np.argsort(probs_dict[sent+'_probs'])\n",
    "    # Get good and bad words\n",
    "    good_words = words[ind[-5:]]\n",
    "    bad_words = words[ind[:5]]\n",
    "    # Get corresponding probabilities\n",
    "    good_prob = probs_dict[sent+'_probs'][ind[-5:]]\n",
    "    bad_prob = probs_dict[sent+'_probs'][ind[:5]]\n",
    "    \n",
    "    # Print Best and Worst predictive words\n",
    "    print(\"Good words\\t     P(%s | word)\" %sent)\n",
    "    for w, p in zip(good_words, good_prob):\n",
    "        print(\"{:>20}\".format(w), \"{:.2f}\".format(p))\n",
    "    \n",
    "    print(\"Bad words\\t     P(%s | word)\" %sent)\n",
    "    for w, p in zip(bad_words, bad_prob):\n",
    "        print(\"{:>20}\".format(w), \"{:.2f}\".format(p))"
   ]
  },
  {
   "cell_type": "markdown",
   "metadata": {},
   "source": [
    "Next for each tweet, we will try to look at the word with highest probability in a particular sentiment"
   ]
  },
  {
   "cell_type": "code",
   "execution_count": null,
   "metadata": {},
   "outputs": [],
   "source": []
  }
 ],
 "metadata": {
  "kernelspec": {
   "display_name": "Python 3",
   "language": "python",
   "name": "python3"
  },
  "language_info": {
   "codemirror_mode": {
    "name": "ipython",
    "version": 3
   },
   "file_extension": ".py",
   "mimetype": "text/x-python",
   "name": "python",
   "nbconvert_exporter": "python",
   "pygments_lexer": "ipython3",
   "version": "3.7.4"
  }
 },
 "nbformat": 4,
 "nbformat_minor": 2
}
